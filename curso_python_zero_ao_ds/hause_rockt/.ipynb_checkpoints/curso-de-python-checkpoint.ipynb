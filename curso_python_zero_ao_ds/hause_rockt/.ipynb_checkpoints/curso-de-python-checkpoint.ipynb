{
 "cells": [
  {
   "cell_type": "markdown",
   "id": "165e5158",
   "metadata": {
    "heading_collapsed": true
   },
   "source": [
    "# 1.Importações "
   ]
  },
  {
   "cell_type": "code",
   "execution_count": 83,
   "id": "1643edbd",
   "metadata": {
    "ExecuteTime": {
     "end_time": "2021-09-21T18:48:58.279711Z",
     "start_time": "2021-09-21T18:48:58.273725Z"
    },
    "hidden": true
   },
   "outputs": [],
   "source": [
    "import numpy as np\n",
    "import pandas as pd"
   ]
  },
  {
   "cell_type": "markdown",
   "id": "5d61cf7a",
   "metadata": {
    "heading_collapsed": true
   },
   "source": [
    "# 2.Importação do Dataset"
   ]
  },
  {
   "cell_type": "code",
   "execution_count": 84,
   "id": "800baed7",
   "metadata": {
    "ExecuteTime": {
     "end_time": "2021-09-21T18:48:59.571265Z",
     "start_time": "2021-09-21T18:48:59.479179Z"
    },
    "hidden": true
   },
   "outputs": [],
   "source": [
    "data = pd.read_csv('dataset/kc_house_data.csv')"
   ]
  },
  {
   "cell_type": "markdown",
   "id": "5eca8fd2",
   "metadata": {
    "ExecuteTime": {
     "end_time": "2021-09-17T20:30:43.151761Z",
     "start_time": "2021-09-17T20:30:43.119002Z"
    },
    "heading_collapsed": true
   },
   "source": [
    "# 3. Perguntas de Negócio"
   ]
  },
  {
   "cell_type": "markdown",
   "id": "5d07536b",
   "metadata": {
    "heading_collapsed": true,
    "hidden": true
   },
   "source": [
    "## 3.1 - Quantas casa estão disponíveis para compra?"
   ]
  },
  {
   "cell_type": "code",
   "execution_count": 85,
   "id": "9aab9127",
   "metadata": {
    "ExecuteTime": {
     "end_time": "2021-09-21T18:49:00.345052Z",
     "start_time": "2021-09-21T18:49:00.327046Z"
    },
    "hidden": true
   },
   "outputs": [
    {
     "name": "stdout",
     "output_type": "stream",
     "text": [
      "O numero de casas disponíveis é de 21436\n"
     ]
    }
   ],
   "source": [
    "# Estratégia: \n",
    "# 1.Selecionar a coluna \"ID\"\n",
    "# 2.Contar o número de valores unicos.\n",
    "\n",
    "houses = len ( data ['id'].unique() )\n",
    "print ('O numero de casas disponíveis é de {}'.format(houses))"
   ]
  },
  {
   "cell_type": "markdown",
   "id": "0d8718a6",
   "metadata": {
    "heading_collapsed": true,
    "hidden": true
   },
   "source": [
    "## 3.2 - Quantos atributos físicos as casas possuem? "
   ]
  },
  {
   "cell_type": "code",
   "execution_count": 86,
   "id": "d58b16e0",
   "metadata": {
    "ExecuteTime": {
     "end_time": "2021-09-21T18:49:00.779924Z",
     "start_time": "2021-09-21T18:49:00.757981Z"
    },
    "hidden": true
   },
   "outputs": [
    {
     "name": "stdout",
     "output_type": "stream",
     "text": [
      "A quantidade de atributos das casas são 19\n"
     ]
    }
   ],
   "source": [
    "# Assumptions:\n",
    "# A coluna \"ID\" e \"DATE\" não são atributos das casas.\n",
    "quantidadeDeAtributos = len ( data.drop(['id', 'date'], axis=1).columns )\n",
    "print ('A quantidade de atributos das casas são {}'.format(quantidadeDeAtributos))"
   ]
  },
  {
   "cell_type": "markdown",
   "id": "d8c3626a",
   "metadata": {
    "heading_collapsed": true,
    "hidden": true
   },
   "source": [
    "## 3.3 - Quais são os atributos? "
   ]
  },
  {
   "cell_type": "code",
   "execution_count": 87,
   "id": "195e82ba",
   "metadata": {
    "ExecuteTime": {
     "end_time": "2021-09-21T18:49:01.151810Z",
     "start_time": "2021-09-21T18:49:01.129994Z"
    },
    "hidden": true
   },
   "outputs": [
    {
     "data": {
      "text/plain": [
       "Index(['price', 'bedrooms', 'bathrooms', 'sqft_living', 'sqft_lot', 'floors',\n",
       "       'waterfront', 'view', 'condition', 'grade', 'sqft_above',\n",
       "       'sqft_basement', 'yr_built', 'yr_renovated', 'zipcode', 'lat', 'long',\n",
       "       'sqft_living15', 'sqft_lot15'],\n",
       "      dtype='object')"
      ]
     },
     "execution_count": 87,
     "metadata": {},
     "output_type": "execute_result"
    }
   ],
   "source": [
    "# Contar o número de colunas\n",
    "data.drop(['id', 'date'], axis=1).columns "
   ]
  },
  {
   "cell_type": "markdown",
   "id": "68bceb15",
   "metadata": {
    "ExecuteTime": {
     "end_time": "2021-09-21T17:11:05.453720Z",
     "start_time": "2021-09-21T17:11:05.420866Z"
    },
    "heading_collapsed": true,
    "hidden": true
   },
   "source": [
    "## 3.4 - Qual a casa mais cara (casa com o maior valor de venda)?"
   ]
  },
  {
   "cell_type": "code",
   "execution_count": 88,
   "id": "6941e9ae",
   "metadata": {
    "ExecuteTime": {
     "end_time": "2021-09-21T18:49:01.556277Z",
     "start_time": "2021-09-21T18:49:01.535581Z"
    },
    "hidden": true
   },
   "outputs": [
    {
     "name": "stdout",
     "output_type": "stream",
     "text": [
      "A casa mais cara possui o id: 6762700020\n"
     ]
    }
   ],
   "source": [
    "casaMaisCara = data [['id', 'price']].sort_values( 'price', ascending=False ).reset_index(drop=True).loc[0,'id']\n",
    "print ('A casa mais cara possui o id: {}'.format(casaMaisCara))"
   ]
  },
  {
   "cell_type": "markdown",
   "id": "f6ad6224",
   "metadata": {
    "ExecuteTime": {
     "end_time": "2021-09-21T16:58:52.863549Z",
     "start_time": "2021-09-21T16:58:52.804171Z"
    },
    "heading_collapsed": true,
    "hidden": true
   },
   "source": [
    "## 3.5 - Qual a casa com o maior número de quartos?"
   ]
  },
  {
   "cell_type": "code",
   "execution_count": 89,
   "id": "c001f501",
   "metadata": {
    "ExecuteTime": {
     "end_time": "2021-09-21T18:49:01.945157Z",
     "start_time": "2021-09-21T18:49:01.916181Z"
    },
    "hidden": true
   },
   "outputs": [
    {
     "name": "stdout",
     "output_type": "stream",
     "text": [
      "A casa com maior número de quartos tem o id: 2402100895\n"
     ]
    }
   ],
   "source": [
    "casaComMaisQuartos = data [['id', 'bedrooms']].sort_values( 'bedrooms', ascending=False ).reset_index(drop=True).loc[0,'id']\n",
    "print ('A casa com maior número de quartos tem o id: {}'.format(casaComMaisQuartos))"
   ]
  },
  {
   "cell_type": "markdown",
   "id": "6e97d35b",
   "metadata": {
    "ExecuteTime": {
     "end_time": "2021-09-21T18:19:42.499823Z",
     "start_time": "2021-09-21T18:19:42.490848Z"
    },
    "heading_collapsed": true,
    "hidden": true
   },
   "source": [
    "## 3.6 - Qual a soma total do conjunto de dados?"
   ]
  },
  {
   "cell_type": "code",
   "execution_count": 90,
   "id": "e04e8145",
   "metadata": {
    "ExecuteTime": {
     "end_time": "2021-09-21T18:49:02.319109Z",
     "start_time": "2021-09-21T18:49:02.297154Z"
    },
    "hidden": true
   },
   "outputs": [
    {
     "name": "stdout",
     "output_type": "stream",
     "text": [
      "A soma total do conjunto de dados é de: 72854\n"
     ]
    }
   ],
   "source": [
    "print ('A soma total do conjunto de dados é de: '+ format(data['bedrooms'].sum()))"
   ]
  },
  {
   "cell_type": "markdown",
   "id": "bdb5053d",
   "metadata": {
    "ExecuteTime": {
     "end_time": "2021-09-21T18:26:42.837680Z",
     "start_time": "2021-09-21T18:26:42.826713Z"
    },
    "heading_collapsed": true,
    "hidden": true
   },
   "source": [
    "## 3.7 - Quantas casas possuem 2 banheiros?"
   ]
  },
  {
   "cell_type": "code",
   "execution_count": 100,
   "id": "6144b41c",
   "metadata": {
    "ExecuteTime": {
     "end_time": "2021-09-21T18:56:48.397219Z",
     "start_time": "2021-09-21T18:56:48.378269Z"
    },
    "hidden": true
   },
   "outputs": [
    {
     "name": "stdout",
     "output_type": "stream",
     "text": [
      "O número de casas que possuem dois banheiros é de: 1930\n"
     ]
    }
   ],
   "source": [
    "# Estratégia:\n",
    "# 1.Filtrar somente os \"id\" cujo valor da coluna \"bathrooms\" é igual a 2\n",
    "# 2.Selecionar as colunas \"id\" e \"bathrooms\"\n",
    "# 3.ontar o número de valores da coluna \"id\"\n",
    "\n",
    "doisBanheiros = len (data.loc[data ['bathrooms'] == 2, ['id', 'bathrooms']])\n",
    "print ('O número de casas que possuem dois banheiros é de: {}'.format(doisBanheiros))"
   ]
  },
  {
   "cell_type": "markdown",
   "id": "da8115dc",
   "metadata": {
    "heading_collapsed": true,
    "hidden": true
   },
   "source": [
    "## 3.8 - Qual o preço médio de todas as casas no conjunto de dados?"
   ]
  },
  {
   "cell_type": "code",
   "execution_count": 101,
   "id": "9af84831",
   "metadata": {
    "ExecuteTime": {
     "end_time": "2021-09-21T18:56:49.571986Z",
     "start_time": "2021-09-21T18:56:49.552012Z"
    },
    "hidden": true
   },
   "outputs": [
    {
     "data": {
      "text/plain": [
       "540088.14"
      ]
     },
     "execution_count": 101,
     "metadata": {},
     "output_type": "execute_result"
    }
   ],
   "source": [
    "np.round(data['price'].mean(), 2)\n"
   ]
  },
  {
   "cell_type": "markdown",
   "id": "1ae6be05",
   "metadata": {
    "heading_collapsed": true,
    "hidden": true
   },
   "source": [
    "## 3.9 - Qual o preço médio das casas com dois manheiros?\n"
   ]
  },
  {
   "cell_type": "code",
   "execution_count": 98,
   "id": "3dfd4522",
   "metadata": {
    "ExecuteTime": {
     "end_time": "2021-09-21T18:55:52.462420Z",
     "start_time": "2021-09-21T18:55:52.440507Z"
    },
    "hidden": true
   },
   "outputs": [
    {
     "data": {
      "text/plain": [
       "457889.72"
      ]
     },
     "execution_count": 98,
     "metadata": {},
     "output_type": "execute_result"
    }
   ],
   "source": [
    "np.round(data.loc[data['bathrooms'] == 2, 'price'].mean(),2)"
   ]
  },
  {
   "cell_type": "markdown",
   "id": "cb738ad7",
   "metadata": {
    "heading_collapsed": true,
    "hidden": true
   },
   "source": [
    "## 3.10 - Qual o preço mínimo entre as casas com 3 quartos?"
   ]
  },
  {
   "cell_type": "code",
   "execution_count": 107,
   "id": "e537e549",
   "metadata": {
    "ExecuteTime": {
     "end_time": "2021-09-21T19:00:58.768728Z",
     "start_time": "2021-09-21T19:00:58.731103Z"
    },
    "hidden": true
   },
   "outputs": [
    {
     "data": {
      "text/plain": [
       "82000.0"
      ]
     },
     "execution_count": 107,
     "metadata": {},
     "output_type": "execute_result"
    }
   ],
   "source": [
    "data.loc[data['bedrooms'] == 3, 'price'].min()"
   ]
  },
  {
   "cell_type": "markdown",
   "id": "a162aeff",
   "metadata": {
    "heading_collapsed": true,
    "hidden": true
   },
   "source": [
    "## 3.11 - Quais casas possuem mais de 300 metros quadrados na sala de estar?\n"
   ]
  },
  {
   "cell_type": "code",
   "execution_count": 131,
   "id": "c17baf2e",
   "metadata": {
    "ExecuteTime": {
     "end_time": "2021-09-21T19:30:42.790996Z",
     "start_time": "2021-09-21T19:30:42.772046Z"
    },
    "hidden": true
   },
   "outputs": [
    {
     "data": {
      "text/plain": [
       "2258"
      ]
     },
     "execution_count": 131,
     "metadata": {},
     "output_type": "execute_result"
    }
   ],
   "source": [
    "data['m2_living'] = data ['sqft_living'] * 0.093\n",
    "\n",
    "len (data.loc[data['m2_living'] > 300, 'id'])"
   ]
  },
  {
   "cell_type": "markdown",
   "id": "21ad6d18",
   "metadata": {
    "heading_collapsed": true,
    "hidden": true
   },
   "source": [
    "## 3.12 - Quantas casas tem mais de 2 andares?\n"
   ]
  },
  {
   "cell_type": "code",
   "execution_count": 118,
   "id": "f3844299",
   "metadata": {
    "ExecuteTime": {
     "end_time": "2021-09-21T19:16:09.383204Z",
     "start_time": "2021-09-21T19:16:09.358315Z"
    },
    "hidden": true
   },
   "outputs": [
    {
     "data": {
      "text/plain": [
       "782"
      ]
     },
     "execution_count": 118,
     "metadata": {},
     "output_type": "execute_result"
    }
   ],
   "source": [
    "len (data.loc[data['floors'] > 2, 'id'])"
   ]
  },
  {
   "cell_type": "markdown",
   "id": "83e620e8",
   "metadata": {
    "heading_collapsed": true,
    "hidden": true
   },
   "source": [
    "## 3.13 - Quantas casas tem vista para o mar?\n"
   ]
  },
  {
   "cell_type": "code",
   "execution_count": 122,
   "id": "e98d4f5e",
   "metadata": {
    "ExecuteTime": {
     "end_time": "2021-09-21T19:18:40.938436Z",
     "start_time": "2021-09-21T19:18:40.914467Z"
    },
    "hidden": true
   },
   "outputs": [
    {
     "data": {
      "text/plain": [
       "163"
      ]
     },
     "execution_count": 122,
     "metadata": {},
     "output_type": "execute_result"
    }
   ],
   "source": [
    "len(data.loc[data['waterfront'] == True, 'id'])"
   ]
  },
  {
   "cell_type": "markdown",
   "id": "99bf0b63",
   "metadata": {
    "heading_collapsed": true,
    "hidden": true
   },
   "source": [
    "## 3.14 - Das casas com vista para o mar, quantas tem 3 quartos?\n"
   ]
  },
  {
   "cell_type": "code",
   "execution_count": 129,
   "id": "82f67d13",
   "metadata": {
    "ExecuteTime": {
     "end_time": "2021-09-21T19:27:53.907488Z",
     "start_time": "2021-09-21T19:27:53.886506Z"
    },
    "hidden": true
   },
   "outputs": [
    {
     "data": {
      "text/plain": [
       "64"
      ]
     },
     "execution_count": 129,
     "metadata": {},
     "output_type": "execute_result"
    }
   ],
   "source": [
    "len (data.loc[(data['waterfront'] == True) & (data['bedrooms'] == 3), 'id'])"
   ]
  },
  {
   "cell_type": "markdown",
   "id": "440da1bb",
   "metadata": {
    "ExecuteTime": {
     "end_time": "2021-09-21T19:23:33.094253Z",
     "start_time": "2021-09-21T19:23:33.063335Z"
    },
    "heading_collapsed": true,
    "hidden": true
   },
   "source": [
    "## 3.15 - Das casas com mais de 300 metros quadrados de sala de estar, quantas tem mais de de 2 banheiros?\n"
   ]
  },
  {
   "cell_type": "code",
   "execution_count": 135,
   "id": "79c6e226",
   "metadata": {
    "ExecuteTime": {
     "end_time": "2021-09-21T19:34:29.338024Z",
     "start_time": "2021-09-21T19:34:29.312748Z"
    },
    "hidden": true
   },
   "outputs": [
    {
     "data": {
      "text/plain": [
       "2201"
      ]
     },
     "execution_count": 135,
     "metadata": {},
     "output_type": "execute_result"
    }
   ],
   "source": [
    "len ( data.loc[(data['m2_living'] > 300) & (data['bathrooms'] > 2), 'id'] )"
   ]
  },
  {
   "cell_type": "code",
   "execution_count": null,
   "id": "de86ea3f",
   "metadata": {
    "hidden": true
   },
   "outputs": [],
   "source": []
  },
  {
   "cell_type": "code",
   "execution_count": null,
   "id": "1c1f2c09",
   "metadata": {
    "hidden": true
   },
   "outputs": [],
   "source": []
  }
 ],
 "metadata": {
  "kernelspec": {
   "display_name": "Python 3 (ipykernel)",
   "language": "python",
   "name": "python3"
  },
  "language_info": {
   "codemirror_mode": {
    "name": "ipython",
    "version": 3
   },
   "file_extension": ".py",
   "mimetype": "text/x-python",
   "name": "python",
   "nbconvert_exporter": "python",
   "pygments_lexer": "ipython3",
   "version": "3.8.11"
  },
  "varInspector": {
   "cols": {
    "lenName": 16,
    "lenType": 16,
    "lenVar": 40
   },
   "kernels_config": {
    "python": {
     "delete_cmd_postfix": "",
     "delete_cmd_prefix": "del ",
     "library": "var_list.py",
     "varRefreshCmd": "print(var_dic_list())"
    },
    "r": {
     "delete_cmd_postfix": ") ",
     "delete_cmd_prefix": "rm(",
     "library": "var_list.r",
     "varRefreshCmd": "cat(var_dic_list()) "
    }
   },
   "types_to_exclude": [
    "module",
    "function",
    "builtin_function_or_method",
    "instance",
    "_Feature"
   ],
   "window_display": false
  }
 },
 "nbformat": 4,
 "nbformat_minor": 5
}
